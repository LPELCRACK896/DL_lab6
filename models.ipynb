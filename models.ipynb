{
 "cells": [
  {
   "cell_type": "code",
   "execution_count": 15,
   "metadata": {},
   "outputs": [],
   "source": [
    "import pandas as pd\n",
    "from sklearn.feature_extraction.text import TfidfVectorizer\n",
    "from sklearn.metrics.pairwise import cosine_similarity\n",
    "from sklearn.decomposition import TruncatedSVD"
   ]
  },
  {
   "cell_type": "code",
   "execution_count": 16,
   "metadata": {},
   "outputs": [],
   "source": [
    "from sample_data import *\n",
    "users, ratings, books = get_saved_samples()"
   ]
  },
  {
   "cell_type": "code",
   "execution_count": 12,
   "metadata": {},
   "outputs": [],
   "source": [
    "books['Book-Title'] = books['Book-Title'].str.lower()\n",
    "books['Book-Author'] = books['Book-Author'].str.lower()\n",
    "# Eliminamos posibles duplicados\n",
    "books.drop_duplicates(subset='ISBN', keep='first', inplace=True)"
   ]
  },
  {
   "cell_type": "code",
   "execution_count": null,
   "metadata": {},
   "outputs": [],
   "source": [
    "books['combined_features'] = books['Book-Title'] + ' ' + books['Book-Author']\n"
   ]
  },
  {
   "cell_type": "code",
   "execution_count": 13,
   "metadata": {},
   "outputs": [],
   "source": [
    "# Vectorización de los títulos de los libros\n",
    "tfidf_vectorizer = TfidfVectorizer(analyzer='word', stop_words='english')\n",
    "tfidf_matrix = tfidf_vectorizer.fit_transform(books['combined_features'])\n"
   ]
  },
  {
   "cell_type": "code",
   "execution_count": 14,
   "metadata": {},
   "outputs": [
    {
     "ename": "MemoryError",
     "evalue": "Unable to allocate 549. GiB for an array with shape (271360, 271360) and data type float64",
     "output_type": "error",
     "traceback": [
      "\u001b[1;31m---------------------------------------------------------------------------\u001b[0m",
      "\u001b[1;31mMemoryError\u001b[0m                               Traceback (most recent call last)",
      "\u001b[1;32mc:\\Users\\lp109\\OneDrive\\Documentos\\0lps\\01 U\\0LaU\\000Octavo semestre\\Deep Learning\\Labs\\6_lab\\models.ipynb Cell 7\u001b[0m line \u001b[0;36m5\n\u001b[0;32m      <a href='vscode-notebook-cell:/c%3A/Users/lp109/OneDrive/Documentos/0lps/01%20U/0LaU/000Octavo%20semestre/Deep%20Learning/Labs/6_lab/models.ipynb#W6sZmlsZQ%3D%3D?line=1'>2</a>\u001b[0m tfidf_matrix_reduced \u001b[39m=\u001b[39m svd\u001b[39m.\u001b[39mfit_transform(tfidf_matrix)\n\u001b[0;32m      <a href='vscode-notebook-cell:/c%3A/Users/lp109/OneDrive/Documentos/0lps/01%20U/0LaU/000Octavo%20semestre/Deep%20Learning/Labs/6_lab/models.ipynb#W6sZmlsZQ%3D%3D?line=3'>4</a>\u001b[0m \u001b[39m# Cálculo de similitud del coseno en la matriz de dimensionalidad reducida\u001b[39;00m\n\u001b[1;32m----> <a href='vscode-notebook-cell:/c%3A/Users/lp109/OneDrive/Documentos/0lps/01%20U/0LaU/000Octavo%20semestre/Deep%20Learning/Labs/6_lab/models.ipynb#W6sZmlsZQ%3D%3D?line=4'>5</a>\u001b[0m cosine_sim_matrix \u001b[39m=\u001b[39m cosine_similarity(tfidf_matrix_reduced, tfidf_matrix_reduced)\n",
      "File \u001b[1;32mc:\\Users\\lp109\\AppData\\Local\\Programs\\Python\\Python311\\Lib\\site-packages\\sklearn\\metrics\\pairwise.py:1401\u001b[0m, in \u001b[0;36mcosine_similarity\u001b[1;34m(X, Y, dense_output)\u001b[0m\n\u001b[0;32m   1398\u001b[0m \u001b[39melse\u001b[39;00m:\n\u001b[0;32m   1399\u001b[0m     Y_normalized \u001b[39m=\u001b[39m normalize(Y, copy\u001b[39m=\u001b[39m\u001b[39mTrue\u001b[39;00m)\n\u001b[1;32m-> 1401\u001b[0m K \u001b[39m=\u001b[39m safe_sparse_dot(X_normalized, Y_normalized\u001b[39m.\u001b[39;49mT, dense_output\u001b[39m=\u001b[39;49mdense_output)\n\u001b[0;32m   1403\u001b[0m \u001b[39mreturn\u001b[39;00m K\n",
      "File \u001b[1;32mc:\\Users\\lp109\\AppData\\Local\\Programs\\Python\\Python311\\Lib\\site-packages\\sklearn\\utils\\extmath.py:189\u001b[0m, in \u001b[0;36msafe_sparse_dot\u001b[1;34m(a, b, dense_output)\u001b[0m\n\u001b[0;32m    187\u001b[0m         ret \u001b[39m=\u001b[39m np\u001b[39m.\u001b[39mdot(a, b)\n\u001b[0;32m    188\u001b[0m \u001b[39melse\u001b[39;00m:\n\u001b[1;32m--> 189\u001b[0m     ret \u001b[39m=\u001b[39m a \u001b[39m@\u001b[39;49m b\n\u001b[0;32m    191\u001b[0m \u001b[39mif\u001b[39;00m (\n\u001b[0;32m    192\u001b[0m     sparse\u001b[39m.\u001b[39missparse(a)\n\u001b[0;32m    193\u001b[0m     \u001b[39mand\u001b[39;00m sparse\u001b[39m.\u001b[39missparse(b)\n\u001b[0;32m    194\u001b[0m     \u001b[39mand\u001b[39;00m dense_output\n\u001b[0;32m    195\u001b[0m     \u001b[39mand\u001b[39;00m \u001b[39mhasattr\u001b[39m(ret, \u001b[39m\"\u001b[39m\u001b[39mtoarray\u001b[39m\u001b[39m\"\u001b[39m)\n\u001b[0;32m    196\u001b[0m ):\n\u001b[0;32m    197\u001b[0m     \u001b[39mreturn\u001b[39;00m ret\u001b[39m.\u001b[39mtoarray()\n",
      "\u001b[1;31mMemoryError\u001b[0m: Unable to allocate 549. GiB for an array with shape (271360, 271360) and data type float64"
     ]
    }
   ],
   "source": [
    "# Utilizamos SVD para reducir la dimensionalidad\n",
    "svd = TruncatedSVD(n_components=200)  # El número de componentes puede ser ajustado\n",
    "tfidf_matrix_reduced = svd.fit_transform(tfidf_matrix)\n",
    "\n",
    "# Cálculo de similitud del coseno en la matriz de dimensionalidad reducida\n",
    "cosine_sim_matrix = cosine_similarity(tfidf_matrix_reduced, tfidf_matrix_reduced)\n"
   ]
  },
  {
   "cell_type": "code",
   "execution_count": null,
   "metadata": {},
   "outputs": [],
   "source": [
    "def book_recommendations(title, cosine_sim_matrix=cosine_sim_matrix, books=books):\n",
    "    # Intentamos encontrar el libro\n",
    "    try:\n",
    "        idx = books.index[books['Book-Title'] == title.lower()].tolist()[0]\n",
    "    except IndexError:\n",
    "        print(f\"El libro con título '{title}' no se encuentra en el dataset.\")\n",
    "        return []\n",
    "\n",
    "    # Puntajes de similitud en orden descendente\n",
    "    sim_scores = list(enumerate(cosine_sim_matrix[idx]))\n",
    "    sim_scores = sorted(sim_scores, key=lambda x: x[1], reverse=True)\n",
    "\n",
    "    # Puntajes de los 10 libros más similares\n",
    "    sim_scores = sim_scores[1:11]\n",
    "\n",
    "    # Índices de libros\n",
    "    book_indices = [i[0] for i in sim_scores]\n",
    "\n",
    "    # Títulos de los 10 libros más similares\n",
    "    return books['Book-Title'].iloc[book_indices]\n"
   ]
  },
  {
   "cell_type": "code",
   "execution_count": null,
   "metadata": {},
   "outputs": [],
   "source": [
    "book_title = \"classical mythology\"\n",
    "recommendations = book_recommendations(book_title)\n",
    "print(recommendations)"
   ]
  }
 ],
 "metadata": {
  "kernelspec": {
   "display_name": "Python 3",
   "language": "python",
   "name": "python3"
  },
  "language_info": {
   "codemirror_mode": {
    "name": "ipython",
    "version": 3
   },
   "file_extension": ".py",
   "mimetype": "text/x-python",
   "name": "python",
   "nbconvert_exporter": "python",
   "pygments_lexer": "ipython3",
   "version": "3.11.3"
  }
 },
 "nbformat": 4,
 "nbformat_minor": 2
}
