{
 "cells": [
  {
   "cell_type": "code",
   "execution_count": 2,
   "metadata": {},
   "outputs": [],
   "source": [
    "import pandas as pd\n",
    "import numpy as np\n",
    "from sklearn.feature_extraction.text import TfidfVectorizer\n",
    "from sklearn.metrics.pairwise import cosine_similarity\n",
    "from sklearn.decomposition import TruncatedSVD"
   ]
  },
  {
   "cell_type": "code",
   "execution_count": 3,
   "metadata": {},
   "outputs": [],
   "source": [
    "from sample_data import *\n",
    "users, ratings, books = get_saved_samples()"
   ]
  },
  {
   "cell_type": "code",
   "execution_count": 4,
   "metadata": {},
   "outputs": [],
   "source": [
    "books['Book-Title'] = books['Book-Title'].str.lower()\n",
    "books['Book-Author'] = books['Book-Author'].str.lower()\n",
    "# Eliminamos posibles duplicados\n",
    "books.drop_duplicates(subset='ISBN', keep='first', inplace=True)"
   ]
  },
  {
   "cell_type": "code",
   "execution_count": 5,
   "metadata": {},
   "outputs": [],
   "source": [
    "books['combined_features'] = books['Book-Title'] + ' ' + books['Book-Author']\n"
   ]
  },
  {
   "cell_type": "code",
   "execution_count": 6,
   "metadata": {},
   "outputs": [],
   "source": [
    "# Vectorización de los títulos de los libros\n",
    "tfidf_vectorizer = TfidfVectorizer(analyzer='word', stop_words='english')\n",
    "tfidf_matrix = tfidf_vectorizer.fit_transform(books['combined_features'])\n"
   ]
  },
  {
   "cell_type": "code",
   "execution_count": 7,
   "metadata": {},
   "outputs": [
    {
     "name": "stdout",
     "output_type": "stream",
     "text": [
      "8750000.0\n"
     ]
    }
   ],
   "source": [
    "svd = TruncatedSVD(n_components=100)  # Ajustado a 100\n",
    "tfidf_matrix_reduced = svd.fit_transform(tfidf_matrix)\n",
    "\n",
    "# Cálculo de similitud del coseno por lotes\n",
    "def batch_cosine_similarity(matrix, batch_size=10000):\n",
    "    cosine_sim_matrix = np.zeros((matrix.shape[0], matrix.shape[0]))\n",
    "    \n",
    "    for start_row in range(0, matrix.shape[0], batch_size):\n",
    "        end_row = min(start_row + batch_size, matrix.shape[0])\n",
    "        batch = matrix[start_row:end_row]\n",
    "        \n",
    "        # Calcular la similitud con toda la matriz\n",
    "        sim_scores = cosine_similarity(batch, matrix)\n",
    "        \n",
    "        # Asignar los resultados a la matriz de similitud\n",
    "        cosine_sim_matrix[start_row:end_row] = sim_scores\n",
    "\n",
    "    return cosine_sim_matrix\n",
    "\n",
    "available_memory = 14e9  # 8 GB en bytes\n",
    "memory_per_row = 800  # Asumiendo 100 componentes con float64\n",
    "batch_size = available_memory // memory_per_row // 2  # Dividimos por 2 para dejar espacio para la operación y otros procesos\n",
    "print(batch_size)\n",
    "\n",
    "cosine_sim_matrix = batch_cosine_similarity(tfidf_matrix_reduced, int(batch_size))\n"
   ]
  },
  {
   "cell_type": "code",
   "execution_count": 8,
   "metadata": {},
   "outputs": [],
   "source": [
    "def book_recommendations(title, cosine_sim_matrix=cosine_sim_matrix, books=books):\n",
    "    # Intentamos encontrar el libro\n",
    "    try:\n",
    "        idx = books.index[books['Book-Title'] == title.lower()].tolist()[0]\n",
    "    except IndexError:\n",
    "        print(f\"El libro con título '{title}' no se encuentra en el dataset.\")\n",
    "        return []\n",
    "\n",
    "    # Puntajes de similitud en orden descendente\n",
    "    sim_scores = list(enumerate(cosine_sim_matrix[idx]))\n",
    "    sim_scores = sorted(sim_scores, key=lambda x: x[1], reverse=True)\n",
    "\n",
    "    # Puntajes de los 10 libros más similares\n",
    "    sim_scores = sim_scores[1:11]\n",
    "\n",
    "    # Índices de libros\n",
    "    book_indices = [i[0] for i in sim_scores]\n",
    "\n",
    "    # Títulos de los 10 libros más similares\n",
    "    return books['Book-Title'].iloc[book_indices]\n"
   ]
  },
  {
   "cell_type": "code",
   "execution_count": 9,
   "metadata": {},
   "outputs": [
    {
     "name": "stdout",
     "output_type": "stream",
     "text": [
      "El libro con título 'classical mythology' no se encuentra en el dataset.\n",
      "[]\n"
     ]
    }
   ],
   "source": [
    "book_title = \"Clara Callan\"\n",
    "recommendations = book_recommendations(book_title)\n",
    "print(recommendations)"
   ]
  }
 ],
 "metadata": {
  "kernelspec": {
   "display_name": "Python 3",
   "language": "python",
   "name": "python3"
  },
  "language_info": {
   "codemirror_mode": {
    "name": "ipython",
    "version": 3
   },
   "file_extension": ".py",
   "mimetype": "text/x-python",
   "name": "python",
   "nbconvert_exporter": "python",
   "pygments_lexer": "ipython3",
   "version": "3.11.6"
  }
 },
 "nbformat": 4,
 "nbformat_minor": 2
}
