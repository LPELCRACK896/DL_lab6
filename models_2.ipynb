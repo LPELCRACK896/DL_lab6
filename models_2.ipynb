{
 "cells": [
  {
   "cell_type": "code",
   "execution_count": 5,
   "metadata": {},
   "outputs": [],
   "source": [
    "import pandas as pd\n",
    "import numpy as np\n",
    "from tensorflow.keras.models import Model\n",
    "from tensorflow.keras.layers import Input, Embedding, Flatten, Dot, Dense, Concatenate\n",
    "from tensorflow.keras.optimizers import Adam"
   ]
  },
  {
   "cell_type": "code",
   "execution_count": 6,
   "metadata": {},
   "outputs": [],
   "source": [
    "from sample_data import *\n",
    "users, ratings, books = get_saved_samples()"
   ]
  },
  {
   "cell_type": "code",
   "execution_count": 7,
   "metadata": {},
   "outputs": [],
   "source": [
    "\n",
    "n_users = ratings['User-ID'].nunique()\n",
    "n_books = ratings['ISBN'].nunique()\n",
    "\n",
    "# Modelo de Embeddings para usuarios y libros\n",
    "user_input = Input(shape=(1,))\n",
    "user_embedding = Embedding(n_users, 15, input_length=1)(user_input)\n",
    "user_vector = Flatten()(user_embedding)\n",
    "\n",
    "book_input = Input(shape=(1,))\n",
    "book_embedding = Embedding(n_books, 15, input_length=1)(book_input)\n",
    "book_vector = Flatten()(book_embedding)\n",
    "\n",
    "# Producto punto de los vectores de usuario y libro para obtener las calificaciones\n",
    "dot_product = Dot(axes=1)([book_vector, user_vector])\n",
    "\n",
    "# Construye el modelo\n",
    "model = Model(inputs=[user_input, book_input], outputs=dot_product)\n",
    "model.compile('adam', 'mean_squared_error')"
   ]
  },
  {
   "cell_type": "code",
   "execution_count": 8,
   "metadata": {},
   "outputs": [
    {
     "name": "stdout",
     "output_type": "stream",
     "text": [
      "Epoch 1/10\n",
      "2924/2924 [==============================] - 47s 16ms/step - loss: 25.4406 - val_loss: 18.8487\n",
      "Epoch 2/10\n",
      "2924/2924 [==============================] - 46s 16ms/step - loss: 24.7990 - val_loss: 18.8488\n",
      "Epoch 3/10\n",
      "2924/2924 [==============================] - 45s 15ms/step - loss: 21.8210 - val_loss: 18.8489\n",
      "Epoch 4/10\n",
      "2924/2924 [==============================] - 45s 16ms/step - loss: 17.8894 - val_loss: 18.8491\n",
      "Epoch 5/10\n",
      "2924/2924 [==============================] - 47s 16ms/step - loss: 15.0992 - val_loss: 18.8494\n",
      "Epoch 6/10\n",
      "2924/2924 [==============================] - 53s 18ms/step - loss: 12.5755 - val_loss: 18.8498\n",
      "Epoch 7/10\n",
      "2924/2924 [==============================] - 48s 16ms/step - loss: 10.2726 - val_loss: 18.8503\n",
      "Epoch 8/10\n",
      "2924/2924 [==============================] - 45s 15ms/step - loss: 8.3213 - val_loss: 18.8504\n",
      "Epoch 9/10\n",
      "2924/2924 [==============================] - 45s 15ms/step - loss: 6.7872 - val_loss: 18.8508\n",
      "Epoch 10/10\n",
      "2924/2924 [==============================] - 46s 16ms/step - loss: 5.6015 - val_loss: 18.8511\n"
     ]
    },
    {
     "data": {
      "text/plain": [
       "<keras.callbacks.History at 0x22a23e8a190>"
      ]
     },
     "execution_count": 8,
     "metadata": {},
     "output_type": "execute_result"
    }
   ],
   "source": [
    "from sklearn.preprocessing import LabelEncoder\n",
    "\n",
    "user_id_encoder = LabelEncoder()\n",
    "user_ids = user_id_encoder.fit_transform(ratings['User-ID'].astype(str))\n",
    "\n",
    "book_id_encoder = LabelEncoder()\n",
    "book_ids = book_id_encoder.fit_transform(ratings['ISBN'].astype(str))\n",
    "ratings = ratings['Book-Rating'].values\n",
    "\n",
    "# Entrenar el modelo\n",
    "model.fit([user_ids, book_ids], ratings, epochs=10, validation_split=0.2)"
   ]
  }
 ],
 "metadata": {
  "kernelspec": {
   "display_name": "Python 3",
   "language": "python",
   "name": "python3"
  },
  "language_info": {
   "codemirror_mode": {
    "name": "ipython",
    "version": 3
   },
   "file_extension": ".py",
   "mimetype": "text/x-python",
   "name": "python",
   "nbconvert_exporter": "python",
   "pygments_lexer": "ipython3",
   "version": "3.11.3"
  }
 },
 "nbformat": 4,
 "nbformat_minor": 2
}
